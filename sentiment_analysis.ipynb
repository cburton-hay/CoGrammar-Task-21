{
 "cells": [
  {
   "cell_type": "code",
   "execution_count": 4,
   "metadata": {},
   "outputs": [],
   "source": [
    "import pandas as pd\n",
    "import spacy\n",
    "nlp = spacy.load('en_core_web_sm')"
   ]
  },
  {
   "cell_type": "code",
   "execution_count": 5,
   "metadata": {},
   "outputs": [],
   "source": [
    "from textblob import TextBlob"
   ]
  },
  {
   "cell_type": "code",
   "execution_count": 6,
   "metadata": {},
   "outputs": [
    {
     "name": "stdout",
     "output_type": "stream",
     "text": [
      "                                        reviews.text\n",
      "0  I thought it would be as big as small paper bu...\n",
      "1  This kindle is light and easy to use especiall...\n",
      "2  Didnt know how much i'd use a kindle so went f...\n",
      "3  I am 100 happy with my purchase. I caught it o...\n",
      "4  Solid entry level Kindle. Great for kids. Gift...\n"
     ]
    }
   ],
   "source": [
    "df = pd.read_csv('amazon_product_reviews.csv', delimiter= ',', usecols=[20], dtype=str)\n",
    "print(df.head())\n",
    "# inputting the data file containing the reviews. Printing to correct input"
   ]
  },
  {
   "cell_type": "code",
   "execution_count": 7,
   "metadata": {},
   "outputs": [],
   "source": [
    "reviews_data = df['reviews.text'] # Only to look at the reviews.text column.\n"
   ]
  },
  {
   "cell_type": "code",
   "execution_count": 8,
   "metadata": {},
   "outputs": [
    {
     "name": "stdout",
     "output_type": "stream",
     "text": [
      "                                        reviews.text\n",
      "0  I thought it would be as big as small paper bu...\n",
      "1  This kindle is light and easy to use especiall...\n",
      "2  Didnt know how much i'd use a kindle so went f...\n",
      "3  I am 100 happy with my purchase. I caught it o...\n",
      "4  Solid entry level Kindle. Great for kids. Gift...\n",
      "5  This make an excellent ebook reader. Don't exp...\n",
      "6  I ordered this for my daughter, as I have the ...\n",
      "7  I bought my Kindle about 2 months ago and the ...\n",
      "8  amazon kindle is always the best ebook, upgrad...\n",
      "9  It's beyond my expectation, and it can even sh...\n"
     ]
    }
   ],
   "source": [
    "clean_data = df.dropna(subset=['reviews.text']) # Removing any blank rows in the reviews.text column.\n",
    "print(df.head(10)) # checking that no blank rows are there."
   ]
  },
  {
   "cell_type": "code",
   "execution_count": 9,
   "metadata": {},
   "outputs": [
    {
     "data": {
      "text/plain": [
       "reviews.text    5000\n",
       "dtype: int64"
      ]
     },
     "execution_count": 9,
     "metadata": {},
     "output_type": "execute_result"
    }
   ],
   "source": [
    "clean_data.count()\n",
    "# Checking the number of rows in the data set to know the limits when choosing my data sample."
   ]
  },
  {
   "cell_type": "code",
   "execution_count": 10,
   "metadata": {},
   "outputs": [],
   "source": [
    "def analyse_polarity(text):\n",
    "    # Preprocess the text with spaCy\n",
    "    doc = nlp(text.lower())\n",
    "    filtered_doc = [token.text for token in doc if not token.is_stop]\n",
    "\n",
    "    # Analyze sentiment with TextBlob\n",
    "    blob = TextBlob(text)\n",
    "    polarity = blob.sentiment.polarity\n",
    "\n",
    "    return polarity\n",
    "    "
   ]
  },
  {
   "cell_type": "code",
   "execution_count": 11,
   "metadata": {},
   "outputs": [
    {
     "name": "stdout",
     "output_type": "stream",
     "text": [
      "This Kindle doesn't have a lighted screen like the pricier models but it has a higher dpi screen than the lower model. It's exactly what I needed, nothing more, nothing less. I've had no problems with the reader at all so far so I'll give it 5 stars.\n",
      "I absolutely love Alexa! This device is loud, easy to install, and does exactly what I tell her to do.\n"
     ]
    }
   ],
   "source": [
    "# Comparing two different reviews.\n",
    "\n",
    "my_review_choice1 = clean_data['reviews.text'][50]\n",
    "print(my_review_choice1)\n",
    "my_review_choice2 = clean_data['reviews.text'][1500]\n",
    "print(my_review_choice2)\n",
    "\n",
    "query_doc = nlp(my_review_choice2)\n"
   ]
  },
  {
   "cell_type": "code",
   "execution_count": 12,
   "metadata": {},
   "outputs": [
    {
     "name": "stderr",
     "output_type": "stream",
     "text": [
      "/var/folders/rd/p6nfvbzn1jd34br_7j9p273m0000gn/T/ipykernel_70239/1313299653.py:5: UserWarning: [W007] The model you're using has no word vectors loaded, so the result of the Doc.similarity method will be based on the tagger, parser and NER, which may not give useful similarity judgements. This may happen if you're using one of the small models, e.g. `en_core_web_sm`, which don't ship with word vectors and only use context-sensitive tensors. You can always add your own word vectors, or use one of the larger models instead if available.\n",
      "  similarity = query_doc.similarity(review)\n"
     ]
    },
    {
     "name": "stdout",
     "output_type": "stream",
     "text": [
      "0.5345\n"
     ]
    }
   ],
   "source": [
    "# Compares the similarity between to selected reviews from the data set to 4DP.\n",
    "\n",
    "for text in my_review_choice1:\n",
    "    review = nlp(my_review_choice1)\n",
    "    similarity = query_doc.similarity(review)\n",
    "    scores = round(similarity, 4)\n",
    "\n",
    "print(scores)"
   ]
  },
  {
   "cell_type": "code",
   "execution_count": 13,
   "metadata": {},
   "outputs": [],
   "source": [
    "# Selecting a sample from the data set\n",
    "my_review_choice_range = clean_data['reviews.text'][0:1000]"
   ]
  },
  {
   "cell_type": "code",
   "execution_count": 14,
   "metadata": {},
   "outputs": [],
   "source": [
    "# Starting a counter for the number of positive, negative and neutral reviews.\n",
    "\n",
    "neg_count = 0\n",
    "pos_count = 0\n",
    "neut_count = 0"
   ]
  },
  {
   "cell_type": "code",
   "execution_count": 15,
   "metadata": {},
   "outputs": [],
   "source": [
    "for text in my_review_choice_range:\n",
    "\n",
    "    polarity_score = analyse_polarity(text)\n",
    "\n",
    "# Using the function to create a polarity score for each individual review.\n",
    "# the count tracks how many positive, negative and neutral reviews are in the selected range for the data set.\n",
    "\n",
    "    if polarity_score >0:\n",
    "        sentiment = \"Positive\"\n",
    "        pos_count = pos_count + 1\n",
    "        #print(f\"Text: {text}\\nPolarity Score: {polarity_score}\\nSentiment: {sentiment}\")\n",
    "    elif polarity_score < 0:\n",
    "        sentiment = \"Negative\"\n",
    "        neg_count = neg_count + 1\n",
    "       # print(f\"Text: {text}\\nPolarity Score: {polarity_score}\\nSentiment: {sentiment}\")\n",
    "    else:\n",
    "        sentiment = \"Neutral\"\n",
    "        neut_count = neut_count + 1\n",
    "        #print(f\"Text: {text}\\nPolarity Score: {polarity_score}\\nSentiment: {sentiment}\")"
   ]
  },
  {
   "cell_type": "code",
   "execution_count": 16,
   "metadata": {},
   "outputs": [
    {
     "name": "stdout",
     "output_type": "stream",
     "text": [
      "Positive:  904\n",
      "Negative: 32\n",
      "Neutral: 64\n"
     ]
    }
   ],
   "source": [
    "# Gives an overall view of positive, negative and neutral reviews within the selected range of the data.\n",
    "print(f\"Positive:  {str(pos_count)}\")\n",
    "print(f\"Negative: {str(neg_count)}\")\n",
    "print(f\"Neutral: {str(neut_count)}\")"
   ]
  }
 ],
 "metadata": {
  "kernelspec": {
   "display_name": "Python 3",
   "language": "python",
   "name": "python3"
  },
  "language_info": {
   "codemirror_mode": {
    "name": "ipython",
    "version": 3
   },
   "file_extension": ".py",
   "mimetype": "text/x-python",
   "name": "python",
   "nbconvert_exporter": "python",
   "pygments_lexer": "ipython3",
   "version": "3.11.4"
  }
 },
 "nbformat": 4,
 "nbformat_minor": 2
}
